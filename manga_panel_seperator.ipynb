{
  "cells": [
    {
      "cell_type": "code",
      "execution_count": 29,
      "metadata": {
        "id": "jxKv6FSAxw9F"
      },
      "outputs": [],
      "source": [
        "import os\n",
        "import cv2\n",
        "import numpy as np\n",
        "from google.colab.patches import cv2_imshow"
      ]
    },
    {
      "cell_type": "code",
      "source": [
        "def generate_mask(image):\n",
        "  gray = cv2.cvtColor(image,cv2.COLOR_BGR2GRAY)\n",
        "\n",
        "  thresh_inv = cv2.threshold(gray, 0, 255, cv2.THRESH_BINARY_INV+cv2.THRESH_OTSU)[1]\n",
        "\n",
        "  # Blur the image\n",
        "  blur = cv2.GaussianBlur(thresh_inv,(1,1),0)\n",
        "\n",
        "  thresh = cv2.threshold(blur, 0, 255, cv2.THRESH_BINARY+cv2.THRESH_OTSU)[1]\n",
        "\n",
        "  # find contours\n",
        "  contours = cv2.findContours(thresh, cv2.RETR_EXTERNAL, cv2.CHAIN_APPROX_SIMPLE)[0]\n",
        "\n",
        "  one_channel_mask = np.ones(image.shape[:2], dtype='uint8') * 255\n",
        "  for c in contours:\n",
        "      # get the bounding rect\n",
        "      x, y, w, h = cv2.boundingRect(c)\n",
        "      if w*h>10000:\n",
        "          cv2.rectangle(one_channel_mask, (x, y), (x+w, y+h), (0, 0, 255), -1)\n",
        "  \n",
        "  # return rgb mask\n",
        "  three_channel_mask = cv2.merge((one_channel_mask, one_channel_mask, one_channel_mask));\n",
        "\n",
        "  return three_channel_mask"
      ],
      "metadata": {
        "id": "flMq4UPIRLan"
      },
      "execution_count": 30,
      "outputs": []
    },
    {
      "cell_type": "code",
      "source": [
        "def get_segmented_panels(image, mask):\n",
        "  gray = cv2.cvtColor(mask, cv2.COLOR_BGR2GRAY)\n",
        "  thresh = cv2.threshold(gray, 0, 255, cv2.THRESH_BINARY_INV + cv2.THRESH_OTSU)[1]\n",
        "\n",
        "  # Find contours, obtain bounding box, extract and return ROIs\n",
        "  ROI_list = []\n",
        "  ROI_number = 0\n",
        "  cnts = cv2.findContours(thresh, cv2.RETR_EXTERNAL, cv2.CHAIN_APPROX_SIMPLE)\n",
        "  cnts = cnts[0] if len(cnts) == 2 else cnts[1]\n",
        "  for c in cnts:\n",
        "      x,y,w,h = cv2.boundingRect(c)\n",
        "      ROI = image[y:y+h, x:x+w]\n",
        "      ROI_list.append(ROI)\n",
        "      ROI_number += 1\n",
        "\n",
        "  return ROI_list"
      ],
      "metadata": {
        "id": "Yqm-GGOaSpQH"
      },
      "execution_count": 31,
      "outputs": []
    },
    {
      "cell_type": "code",
      "source": [
        "image = cv2.imread(\"{Image_File_Path}\")"
      ],
      "metadata": {
        "id": "a_7HeYYcqy-0"
      },
      "execution_count": 60,
      "outputs": []
    },
    {
      "cell_type": "code",
      "source": [
        "cv2_imshow(image)"
      ],
      "metadata": {
        "id": "8-9mdb6GvYcv"
      },
      "execution_count": null,
      "outputs": []
    },
    {
      "cell_type": "code",
      "source": [
        "mask = generate_mask(image)\n",
        "panels = get_segmented_panels(image, mask)"
      ],
      "metadata": {
        "id": "cdVXKtqNpunI"
      },
      "execution_count": 61,
      "outputs": []
    },
    {
      "cell_type": "code",
      "source": [
        "for panel in panels:\n",
        "  cv2_imshow(panel)"
      ],
      "metadata": {
        "id": "ZWQJ0AepOSyH"
      },
      "execution_count": null,
      "outputs": []
    }
  ],
  "metadata": {
    "colab": {
      "name": "main.ipynb",
      "provenance": [],
      "collapsed_sections": []
    },
    "kernelspec": {
      "display_name": "Python 3",
      "name": "python3"
    },
    "language_info": {
      "name": "python"
    }
  },
  "nbformat": 4,
  "nbformat_minor": 0
}